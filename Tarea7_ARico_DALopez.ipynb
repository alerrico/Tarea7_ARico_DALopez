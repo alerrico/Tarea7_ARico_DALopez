{
 "cells": [
  {
   "cell_type": "markdown",
   "metadata": {},
   "source": [
    "<img style=\"float: left; margin: 30px 15px 15px 15px;\" src=\"https://pngimage.net/wp-content/uploads/2018/06/logo-iteso-png-5.png\" width=\"300\" height=\"500\" /> \n",
    "    \n",
    "    \n",
    "### <font color='navy'> Simulación de procesos financieros. \n",
    "\n",
    "**Nombres:** Alejandra Rico Rosales, Diego Alberto López Lazareno.\n",
    "\n",
    "**Fecha:** 22 de octubre del 2021.\n",
    "\n",
    "**Expediente:** 722100, 714643.\n",
    "    \n",
    "**Profesor:** Oscar David Jaramillo Zuluaga.\n",
    "    \n",
    "**Link Github:** [Link con el enlace del repositorio del creador del proyecto](https://github.com/alerrico/Tarea7_ARico_DALopez)\n",
    "\n",
    "# Tarea 7: Clase 13"
   ]
  },
  {
   "cell_type": "code",
   "execution_count": 1,
   "metadata": {},
   "outputs": [],
   "source": [
    "import numpy as np\n",
    "import scipy.stats as st\n",
    "import pandas as pd\n",
    "import matplotlib.pyplot as plt"
   ]
  },
  {
   "cell_type": "markdown",
   "metadata": {},
   "source": [
    "## Enunciado de tarea (Transcribirlo)"
   ]
  },
  {
   "cell_type": "markdown",
   "metadata": {},
   "source": [
    "> Aproxime el valor de la siguiente integral usando el método monte carlo crudo y método de reducción de varianza de muestreo estratíficado\n",
    "\n",
    "$$I=\\int_{0}^{1}x^2\\text{d}x=\\left.\\frac{x^3}{3}\\right|_{x=0}^{x=1}=\\frac{1}{3}\\approx 0.33333$$\n",
    "\n",
    "> Pasos:"
   ]
  },
  {
   "cell_type": "markdown",
   "metadata": {},
   "source": [
    ">### Ejercicio 1: \n",
    ">1. Cree una función que realice el método de muestreo estratíficado, recibiendo como único parámetro de entrada la cantidad de estratos y retornando las variables estratíficadas correspondientes."
   ]
  },
  {
   "cell_type": "markdown",
   "metadata": {},
   "source": [
    ">### Ejercicio 2:\n",
    ">2. Reporte los resultados de la aproximación de la integral usando montecarlo crudo y muestreo estratíficado, en un Dataframe con la información mostrada en la siguiente imagen:"
   ]
  },
  {
   "cell_type": "markdown",
   "metadata": {},
   "source": [
    "<img src=\"tarea.jpg\">"
   ]
  },
  {
   "cell_type": "markdown",
   "metadata": {},
   "source": [
    "#### Código de solución `ESTUDIANTE 1: ALEJANDRA RICO`"
   ]
  },
  {
   "cell_type": "code",
   "execution_count": 3,
   "metadata": {},
   "outputs": [],
   "source": [
    "def montecarlo(f:'Función a integrar',\n",
    "                   a:'Límite inferior de la integral',\n",
    "                   b:'Límite superior de la integral',\n",
    "                   U:'Muestra de números U~[a,b]'):\n",
    "    return (b-a)/len(U)*np.sum(f(U))\n",
    "\n",
    "def estratificado(a, b, N):\n",
    "    U2 = np.random.uniform(a,b,N)\n",
    "    i = np.arange(0,N)\n",
    "    return (U2+i)/N"
   ]
  },
  {
   "cell_type": "code",
   "execution_count": 8,
   "metadata": {},
   "outputs": [
    {
     "data": {
      "text/html": [
       "<div>\n",
       "<style scoped>\n",
       "    .dataframe tbody tr th:only-of-type {\n",
       "        vertical-align: middle;\n",
       "    }\n",
       "\n",
       "    .dataframe tbody tr th {\n",
       "        vertical-align: top;\n",
       "    }\n",
       "\n",
       "    .dataframe thead th {\n",
       "        text-align: right;\n",
       "    }\n",
       "</style>\n",
       "<table border=\"1\" class=\"dataframe\">\n",
       "  <thead>\n",
       "    <tr style=\"text-align: right;\">\n",
       "      <th></th>\n",
       "      <th>Montecarlo crudo</th>\n",
       "      <th>Error relativo1%</th>\n",
       "      <th>Muestreo estratificado</th>\n",
       "      <th>Error relativo2%</th>\n",
       "    </tr>\n",
       "    <tr>\n",
       "      <th>Cantidad terminos</th>\n",
       "      <th></th>\n",
       "      <th></th>\n",
       "      <th></th>\n",
       "      <th></th>\n",
       "    </tr>\n",
       "  </thead>\n",
       "  <tbody>\n",
       "    <tr>\n",
       "      <th>10</th>\n",
       "      <td>0.517090</td>\n",
       "      <td>55.126978</td>\n",
       "      <td>0.346433</td>\n",
       "      <td>3.929959e+00</td>\n",
       "    </tr>\n",
       "    <tr>\n",
       "      <th>100</th>\n",
       "      <td>0.334720</td>\n",
       "      <td>0.416093</td>\n",
       "      <td>0.333240</td>\n",
       "      <td>2.805058e-02</td>\n",
       "    </tr>\n",
       "    <tr>\n",
       "      <th>1000</th>\n",
       "      <td>0.324484</td>\n",
       "      <td>2.654668</td>\n",
       "      <td>0.333357</td>\n",
       "      <td>6.998665e-03</td>\n",
       "    </tr>\n",
       "    <tr>\n",
       "      <th>10000</th>\n",
       "      <td>0.333149</td>\n",
       "      <td>0.055324</td>\n",
       "      <td>0.333333</td>\n",
       "      <td>3.786205e-05</td>\n",
       "    </tr>\n",
       "    <tr>\n",
       "      <th>100000</th>\n",
       "      <td>0.332935</td>\n",
       "      <td>0.119440</td>\n",
       "      <td>0.333333</td>\n",
       "      <td>3.014989e-06</td>\n",
       "    </tr>\n",
       "    <tr>\n",
       "      <th>1000000</th>\n",
       "      <td>0.332776</td>\n",
       "      <td>0.167206</td>\n",
       "      <td>0.333333</td>\n",
       "      <td>3.837900e-08</td>\n",
       "    </tr>\n",
       "    <tr>\n",
       "      <th>10000000</th>\n",
       "      <td>0.333265</td>\n",
       "      <td>0.020597</td>\n",
       "      <td>0.333333</td>\n",
       "      <td>6.285605e-09</td>\n",
       "    </tr>\n",
       "  </tbody>\n",
       "</table>\n",
       "</div>"
      ],
      "text/plain": [
       "                   Montecarlo crudo  Error relativo1%  Muestreo estratificado  \\\n",
       "Cantidad terminos                                                               \n",
       "10                         0.517090         55.126978                0.346433   \n",
       "100                        0.334720          0.416093                0.333240   \n",
       "1000                       0.324484          2.654668                0.333357   \n",
       "10000                      0.333149          0.055324                0.333333   \n",
       "100000                     0.332935          0.119440                0.333333   \n",
       "1000000                    0.332776          0.167206                0.333333   \n",
       "10000000                   0.333265          0.020597                0.333333   \n",
       "\n",
       "                   Error relativo2%  \n",
       "Cantidad terminos                    \n",
       "10                     3.929959e+00  \n",
       "100                    2.805058e-02  \n",
       "1000                   6.998665e-03  \n",
       "10000                  3.786205e-05  \n",
       "100000                 3.014989e-06  \n",
       "1000000                3.837900e-08  \n",
       "10000000               6.285605e-09  "
      ]
     },
     "execution_count": 8,
     "metadata": {},
     "output_type": "execute_result"
    }
   ],
   "source": [
    "I = 1/3\n",
    "a = 0; b = 1\n",
    "\n",
    "# Cantidad de términos, en escala logarítmica\n",
    "N = np.logspace(1,7,7,dtype=int)\n",
    "\n",
    "# Tabla con resultados\n",
    "df = pd.DataFrame(index=N,columns=['Montecarlo crudo', 'Error relativo1%', \"Muestreo estratificado\", \"Error relativo2%\"], dtype='float')\n",
    "df.index.name = \"Cantidad terminos\"\n",
    "\n",
    "# Números aleatorios dependiente de N\n",
    "ui = list(map(lambda N: np.random.uniform(a,b,N),N))\n",
    "ui_estratificado = list(map(lambda N: estratificado(a,b,N), N))\n",
    "\n",
    "# Calculamos la aproximación por montecarlo dependiendo de la cantidad de\n",
    "# términos que hayamos creado con ui\n",
    "I_m = list(map(lambda Y: montecarlo(lambda x:x**2,a,b,Y),ui))\n",
    "I_e = list(map(lambda Y: montecarlo(lambda x:x**2,a,b,Y),ui_estratificado))\n",
    "\n",
    "# Mostramos los resultados en la tabla previamente creada\n",
    "df.loc[N,\"Montecarlo crudo\"] = I_m\n",
    "df.loc[N, \"Muestreo estratificado\"] = I_e\n",
    "df.loc[N,\"Error relativo1%\"] = np.abs(df.loc[N,\"Montecarlo crudo\"]-I)*100/I\n",
    "df.loc[N,\"Error relativo2%\"] = np.abs(df.loc[N,\"Muestreo estratificado\"]-I)*100/I\n",
    "df"
   ]
  },
  {
   "cell_type": "markdown",
   "metadata": {},
   "source": [
    "#### Código de solución `ESTUDIANTE 2: DIEGO LOPEZ`"
   ]
  },
  {
   "cell_type": "code",
   "execution_count": null,
   "metadata": {},
   "outputs": [],
   "source": []
  }
 ],
 "metadata": {
  "kernelspec": {
   "display_name": "Python 3",
   "language": "python",
   "name": "python3"
  },
  "language_info": {
   "codemirror_mode": {
    "name": "ipython",
    "version": 3
   },
   "file_extension": ".py",
   "mimetype": "text/x-python",
   "name": "python",
   "nbconvert_exporter": "python",
   "pygments_lexer": "ipython3",
   "version": "3.8.3"
  }
 },
 "nbformat": 4,
 "nbformat_minor": 4
}
